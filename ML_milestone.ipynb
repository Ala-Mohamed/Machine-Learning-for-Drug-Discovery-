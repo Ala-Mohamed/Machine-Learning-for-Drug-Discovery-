{
  "nbformat": 4,
  "nbformat_minor": 0,
  "metadata": {
    "colab": {
      "provenance": [],
      "authorship_tag": "ABX9TyPyVHAXm7tvwtU+epOgROUM",
      "include_colab_link": true
    },
    "kernelspec": {
      "name": "python3",
      "display_name": "Python 3"
    },
    "language_info": {
      "name": "python"
    }
  },
  "cells": [
    {
      "cell_type": "markdown",
      "metadata": {
        "id": "view-in-github",
        "colab_type": "text"
      },
      "source": [
        "<a href=\"https://colab.research.google.com/github/Ala-Mohamed/Machine-Learning-for-Drug-Discovery-/blob/main/ML_milestone.ipynb\" target=\"_parent\"><img src=\"https://colab.research.google.com/assets/colab-badge.svg\" alt=\"Open In Colab\"/></a>"
      ]
    },
    {
      "cell_type": "code",
      "source": [
        "import pandas as pd\n",
        "import numpy as np\n",
        "from sklearn.model_selection import train_test_split\n",
        "from xgboost import XGBClassifier\n",
        "from sklearn.metrics import accuracy_score, classification_report\n",
        "import matplotlib.pyplot as plt\n"
      ],
      "metadata": {
        "id": "kEeDopItzfUS"
      },
      "execution_count": null,
      "outputs": []
    },
    {
      "cell_type": "code",
      "source": [
        "discriptors= pd.read_csv('bioactivity_discriptors_3class_pIC50_pubchem_fp.csv')\n",
        "activity= pd.read_csv('bioactivity_discriptors_3class_pIC50_pubchem_fp_final.csv')"
      ],
      "metadata": {
        "id": "-Mz2pm9m1v-H"
      },
      "execution_count": null,
      "outputs": []
    },
    {
      "cell_type": "code",
      "source": [
        "print(activity.head())\n",
        "print(activity.shape)\n",
        "print(discriptors.head())\n",
        "print(discriptors.shape)"
      ],
      "metadata": {
        "colab": {
          "base_uri": "https://localhost:8080/"
        },
        "id": "mxq_HXcl18iq",
        "outputId": "299453a1-7fef-47e6-d06e-7ab384fa38a9"
      },
      "execution_count": null,
      "outputs": [
        {
          "output_type": "stream",
          "name": "stdout",
          "text": [
            "           Name  PubchemFP0  PubchemFP1  PubchemFP2  PubchemFP3  PubchemFP4  \\\n",
            "0  CHEMBL336398           1           1           1           0           0   \n",
            "1  CHEMBL133897           1           1           1           0           0   \n",
            "2  CHEMBL130478           1           1           0           0           0   \n",
            "3  CHEMBL130628           1           1           1           0           0   \n",
            "4  CHEMBL130098           1           1           0           0           0   \n",
            "\n",
            "   PubchemFP5  PubchemFP6  PubchemFP7  PubchemFP8  ...  PubchemFP872  \\\n",
            "0           0           0           0           0  ...             0   \n",
            "1           0           0           0           0  ...             0   \n",
            "2           0           0           0           0  ...             0   \n",
            "3           0           0           0           0  ...             0   \n",
            "4           0           0           0           0  ...             0   \n",
            "\n",
            "   PubchemFP873  PubchemFP874  PubchemFP875  PubchemFP876  PubchemFP877  \\\n",
            "0             0             0             0             0             0   \n",
            "1             0             0             0             0             0   \n",
            "2             0             0             0             0             0   \n",
            "3             0             0             0             0             0   \n",
            "4             0             0             0             0             0   \n",
            "\n",
            "   PubchemFP878  PubchemFP879  PubchemFP880  bioactivity_class  \n",
            "0             0             0             0             active  \n",
            "1             0             0             0           inactive  \n",
            "2             0             0             0           inactive  \n",
            "3             0             0             0           inactive  \n",
            "4             0             0             0             active  \n",
            "\n",
            "[5 rows x 883 columns]\n",
            "(5176, 883)\n",
            "           Name  PubchemFP0  PubchemFP1  PubchemFP2  PubchemFP3  PubchemFP4  \\\n",
            "0  CHEMBL336398           1           1           1           0           0   \n",
            "1  CHEMBL133897           1           1           1           0           0   \n",
            "2  CHEMBL130478           1           1           0           0           0   \n",
            "3  CHEMBL130628           1           1           1           0           0   \n",
            "4  CHEMBL130098           1           1           0           0           0   \n",
            "\n",
            "   PubchemFP5  PubchemFP6  PubchemFP7  PubchemFP8  ...  PubchemFP872  \\\n",
            "0           0           0           0           0  ...             0   \n",
            "1           0           0           0           0  ...             0   \n",
            "2           0           0           0           0  ...             0   \n",
            "3           0           0           0           0  ...             0   \n",
            "4           0           0           0           0  ...             0   \n",
            "\n",
            "   PubchemFP873  PubchemFP874  PubchemFP875  PubchemFP876  PubchemFP877  \\\n",
            "0             0             0             0             0             0   \n",
            "1             0             0             0             0             0   \n",
            "2             0             0             0             0             0   \n",
            "3             0             0             0             0             0   \n",
            "4             0             0             0             0             0   \n",
            "\n",
            "   PubchemFP878  PubchemFP879  PubchemFP880  bioactivity_class  \n",
            "0             0             0             0             active  \n",
            "1             0             0             0           inactive  \n",
            "2             0             0             0           inactive  \n",
            "3             0             0             0           inactive  \n",
            "4             0             0             0             active  \n",
            "\n",
            "[5 rows x 883 columns]\n",
            "(5174, 883)\n"
          ]
        }
      ]
    },
    {
      "cell_type": "code",
      "source": [],
      "metadata": {
        "id": "8Lb_0h4aLarK"
      },
      "execution_count": null,
      "outputs": []
    },
    {
      "cell_type": "code",
      "source": [
        "activity_label=activity['bioactivity_class']\n",
        "discriptors[\"label\"]=activity_label\n",
        "print (discriptors.head())\n",
        "discriptors['molecule_chembl_id']=activity['molecule_chembl_id']\n",
        "print(discriptors.head())\n",
        "discriptors.to_csv('final_data_with_lables_and_activiy_7k.csv')"
      ],
      "metadata": {
        "colab": {
          "base_uri": "https://localhost:8080/"
        },
        "id": "AACqO5jJ5zAx",
        "outputId": "887ee259-f9ee-4261-f4e3-4d4a15ef69fa"
      },
      "execution_count": null,
      "outputs": [
        {
          "output_type": "stream",
          "name": "stdout",
          "text": [
            "           Name  PubchemFP0  PubchemFP1  PubchemFP2  PubchemFP3  PubchemFP4  \\\n",
            "0  CHEMBL336398           1           1           1           0           0   \n",
            "1  CHEMBL133897           1           1           1           0           0   \n",
            "2  CHEMBL130478           1           1           0           0           0   \n",
            "3  CHEMBL130628           1           1           1           0           0   \n",
            "4  CHEMBL130098           1           1           0           0           0   \n",
            "\n",
            "   PubchemFP5  PubchemFP6  PubchemFP7  PubchemFP8  ...  PubchemFP874  \\\n",
            "0           0           0           0           0  ...             0   \n",
            "1           0           0           0           0  ...             0   \n",
            "2           0           0           0           0  ...             0   \n",
            "3           0           0           0           0  ...             0   \n",
            "4           0           0           0           0  ...             0   \n",
            "\n",
            "   PubchemFP875  PubchemFP876  PubchemFP877  PubchemFP878  PubchemFP879  \\\n",
            "0             0             0             0             0             0   \n",
            "1             0             0             0             0             0   \n",
            "2             0             0             0             0             0   \n",
            "3             0             0             0             0             0   \n",
            "4             0             0             0             0             0   \n",
            "\n",
            "   PubchemFP880  bioactivity_class     label  molecule_chembl_id  \n",
            "0             0           inactive  inactive        CHEMBL133897  \n",
            "1             0             active    active        CHEMBL336398  \n",
            "2             0                NaN  inactive        CHEMBL130628  \n",
            "3             0           inactive  inactive        CHEMBL130478  \n",
            "4             0           inactive  inactive        CHEMBL130112  \n",
            "\n",
            "[5 rows x 885 columns]\n",
            "           Name  PubchemFP0  PubchemFP1  PubchemFP2  PubchemFP3  PubchemFP4  \\\n",
            "0  CHEMBL336398           1           1           1           0           0   \n",
            "1  CHEMBL133897           1           1           1           0           0   \n",
            "2  CHEMBL130478           1           1           0           0           0   \n",
            "3  CHEMBL130628           1           1           1           0           0   \n",
            "4  CHEMBL130098           1           1           0           0           0   \n",
            "\n",
            "   PubchemFP5  PubchemFP6  PubchemFP7  PubchemFP8  ...  PubchemFP874  \\\n",
            "0           0           0           0           0  ...             0   \n",
            "1           0           0           0           0  ...             0   \n",
            "2           0           0           0           0  ...             0   \n",
            "3           0           0           0           0  ...             0   \n",
            "4           0           0           0           0  ...             0   \n",
            "\n",
            "   PubchemFP875  PubchemFP876  PubchemFP877  PubchemFP878  PubchemFP879  \\\n",
            "0             0             0             0             0             0   \n",
            "1             0             0             0             0             0   \n",
            "2             0             0             0             0             0   \n",
            "3             0             0             0             0             0   \n",
            "4             0             0             0             0             0   \n",
            "\n",
            "   PubchemFP880  bioactivity_class     label  molecule_chembl_id  \n",
            "0             0           inactive  inactive        CHEMBL133897  \n",
            "1             0             active    active        CHEMBL336398  \n",
            "2             0                NaN  inactive        CHEMBL130628  \n",
            "3             0           inactive  inactive        CHEMBL130478  \n",
            "4             0           inactive  inactive        CHEMBL130112  \n",
            "\n",
            "[5 rows x 885 columns]\n"
          ]
        }
      ]
    },
    {
      "cell_type": "code",
      "source": [
        "print(discriptors.shape)"
      ],
      "metadata": {
        "colab": {
          "base_uri": "https://localhost:8080/"
        },
        "id": "WayPZFgTIUMb",
        "outputId": "f5320a86-1aa3-49f2-d8e8-d5e09fee45fd"
      },
      "execution_count": null,
      "outputs": [
        {
          "output_type": "stream",
          "name": "stdout",
          "text": [
            "(5174, 883)\n"
          ]
        }
      ]
    },
    {
      "cell_type": "code",
      "source": [
        "activity_counts = discriptors['label'].value_counts()\n",
        "\n",
        "plt.figure(figsize=(8, 6))\n",
        "activity_counts.plot(kind='bar')\n",
        "plt.title('Frequency of each Bioactivity Class')\n",
        "plt.xlabel('Bioactivity Class')\n",
        "plt.ylabel('Frequency')\n",
        "plt.xticks(rotation=45)\n",
        "plt.show()"
      ],
      "metadata": {
        "colab": {
          "base_uri": "https://localhost:8080/",
          "height": 607
        },
        "id": "axyB7pgfF0XZ",
        "outputId": "b40a1aec-ee01-420a-d4de-46c01fde2c18"
      },
      "execution_count": null,
      "outputs": [
        {
          "output_type": "display_data",
          "data": {
            "text/plain": [
              "<Figure size 800x600 with 1 Axes>"
            ],
            "image/png": "[encoded data removed]"
          },
          "metadata": {}
        }
      ]
    },
    {
      "cell_type": "code",
      "source": [
        "#undersampling\n",
        "from collections import Counter\n",
        "from imblearn.under_sampling import ClusterCentroids\n",
        "from sklearn.preprocessing import LabelEncoder\n",
        "#data=pd.read_csv('final_data_with_lables_and_activiy_5k.csv')\n",
        "print(discriptors.head())\n",
        "print(sorted(Counter(discriptors['bioactivity_class']).items()))\n",
        "\n",
        "X = discriptors.drop(columns=['bioactivity_class','Name'])\n",
        "y = discriptors['bioactivity_class']\n",
        "#le = LabelEncoder()\n",
        "#y = le.fit_transform(y)\n",
        "#print(y)\n",
        "cc = ClusterCentroids(random_state=0   )\n",
        "\n",
        "# Perform undersampling\n",
        "X_resampled, y_resampled = cc.fit_resample(X, y)\n",
        "df_resampled = pd.DataFrame(X_resampled, columns=X.columns)\n",
        "df_resampled['label'] = y_resampled\n",
        "df_resampled.to_csv('undersampled_data_5k.csv', index=False)\n",
        "\n",
        "# Check new class distribution\n",
        "print(sorted(Counter(y_resampled).items()))"
      ],
      "metadata": {
        "colab": {
          "base_uri": "https://localhost:8080/"
        },
        "id": "N1AURQl32YHR",
        "outputId": "adfc5e57-5fba-4358-dbac-031c96c6d18d"
      },
      "execution_count": null,
      "outputs": [
        {
          "output_type": "stream",
          "name": "stdout",
          "text": [
            "           Name  PubchemFP0  PubchemFP1  PubchemFP2  PubchemFP3  PubchemFP4  \\\n",
            "0  CHEMBL336398           1           1           1           0           0   \n",
            "1  CHEMBL133897           1           1           1           0           0   \n",
            "2  CHEMBL130478           1           1           0           0           0   \n",
            "3  CHEMBL130628           1           1           1           0           0   \n",
            "4  CHEMBL130098           1           1           0           0           0   \n",
            "\n",
            "   PubchemFP5  PubchemFP6  PubchemFP7  PubchemFP8  ...  PubchemFP872  \\\n",
            "0           0           0           0           0  ...             0   \n",
            "1           0           0           0           0  ...             0   \n",
            "2           0           0           0           0  ...             0   \n",
            "3           0           0           0           0  ...             0   \n",
            "4           0           0           0           0  ...             0   \n",
            "\n",
            "   PubchemFP873  PubchemFP874  PubchemFP875  PubchemFP876  PubchemFP877  \\\n",
            "0             0             0             0             0             0   \n",
            "1             0             0             0             0             0   \n",
            "2             0             0             0             0             0   \n",
            "3             0             0             0             0             0   \n",
            "4             0             0             0             0             0   \n",
            "\n",
            "   PubchemFP878  PubchemFP879  PubchemFP880  bioactivity_class  \n",
            "0             0             0             0             active  \n",
            "1             0             0             0           inactive  \n",
            "2             0             0             0           inactive  \n",
            "3             0             0             0           inactive  \n",
            "4             0             0             0             active  \n",
            "\n",
            "[5 rows x 883 columns]\n",
            "[('active', 1442), ('inactive', 3213), ('intermediate', 519)]\n"
          ]
        },
        {
          "output_type": "stream",
          "name": "stderr",
          "text": [
            "<ipython-input-25-870a744bbccd>:19: PerformanceWarning: DataFrame is highly fragmented.  This is usually the result of calling `frame.insert` many times, which has poor performance.  Consider joining all columns at once using pd.concat(axis=1) instead. To get a de-fragmented frame, use `newframe = frame.copy()`\n",
            "  df_resampled['label'] = y_resampled\n"
          ]
        },
        {
          "output_type": "stream",
          "name": "stdout",
          "text": [
            "[('active', 519), ('inactive', 519), ('intermediate', 519)]\n"
          ]
        }
      ]
    },
    {
      "cell_type": "code",
      "source": [
        "undersamoling=pd.read_csv('undersampled_data_5k.csv')\n",
        "print(undersamoling.head())\n",
        "print(undersamoling.shape)"
      ],
      "metadata": {
        "colab": {
          "base_uri": "https://localhost:8080/"
        },
        "id": "RknmeShssvqs",
        "outputId": "9902cc54-84cb-4780-a61c-2d1128c85ddc"
      },
      "execution_count": null,
      "outputs": [
        {
          "output_type": "stream",
          "name": "stdout",
          "text": [
            "   PubchemFP0  PubchemFP1  PubchemFP2  PubchemFP3  PubchemFP4  PubchemFP5  \\\n",
            "0           1           1           1           1           0           0   \n",
            "1           1           1           1           1           0           0   \n",
            "2           1           1           1           0           0           0   \n",
            "3           1           1           1           0           0           0   \n",
            "4           1           1           1           0           0           0   \n",
            "\n",
            "   PubchemFP6  PubchemFP7  PubchemFP8  PubchemFP9  ...  PubchemFP872  \\\n",
            "0           0           0           0           1  ...             0   \n",
            "1           0           0           0           1  ...             0   \n",
            "2           0           0           0           1  ...             0   \n",
            "3           0           0           0           1  ...             0   \n",
            "4           0           0           0           1  ...             0   \n",
            "\n",
            "   PubchemFP873  PubchemFP874  PubchemFP875  PubchemFP876  PubchemFP877  \\\n",
            "0             0             0             0             0             0   \n",
            "1             0             0             0             0             0   \n",
            "2             0             0             0             0             0   \n",
            "3             0             0             0             0             0   \n",
            "4             0             0             0             0             0   \n",
            "\n",
            "   PubchemFP878  PubchemFP879  PubchemFP880   label  \n",
            "0             0             0             0  active  \n",
            "1             0             0             0  active  \n",
            "2             0             0             0  active  \n",
            "3             0             0             0  active  \n",
            "4             0             0             0  active  \n",
            "\n",
            "[5 rows x 882 columns]\n",
            "(1557, 882)\n"
          ]
        }
      ]
    },
    {
      "cell_type": "code",
      "source": [
        "df=pd.read_csv('X_low_variance_removed (1)final.csv')\n",
        "print(df.head())\n",
        "print(df.shape)\n",
        "df['label']=undersamoling['label']\n",
        "print(df.head())"
      ],
      "metadata": {
        "colab": {
          "base_uri": "https://localhost:8080/"
        },
        "id": "d9nwlPVRrDCt",
        "outputId": "d9db44d2-d7e3-445b-9cc5-1229e0f7f49b"
      },
      "execution_count": null,
      "outputs": [
        {
          "output_type": "stream",
          "name": "stdout",
          "text": [
            "   0  1  2  3  4  5  6  7  8  9  ...  120  121  122  123  124  125  126  127  \\\n",
            "0  1  1  0  1  0  0  0  0  1  1  ...    1    1    0    1    1    0    1    1   \n",
            "1  1  1  1  0  0  0  0  0  1  1  ...    0    0    0    0    1    0    0    0   \n",
            "2  0  1  0  1  0  0  0  0  0  1  ...    1    0    0    1    0    0    1    0   \n",
            "3  0  1  0  1  0  0  0  0  1  1  ...    0    0    0    0    0    0    0    0   \n",
            "4  0  0  0  1  0  0  0  0  0  0  ...    1    0    0    1    0    0    1    0   \n",
            "\n",
            "   128  129  \n",
            "0    1    1  \n",
            "1    0    1  \n",
            "2    1    0  \n",
            "3    1    0  \n",
            "4    0    0  \n",
            "\n",
            "[5 rows x 130 columns]\n",
            "(1557, 130)\n",
            "   0  1  2  3  4  5  6  7  8  9  ...  121  122  123  124  125  126  127  128  \\\n",
            "0  1  1  0  1  0  0  0  0  1  1  ...    1    0    1    1    0    1    1    1   \n",
            "1  1  1  1  0  0  0  0  0  1  1  ...    0    0    0    1    0    0    0    0   \n",
            "2  0  1  0  1  0  0  0  0  0  1  ...    0    0    1    0    0    1    0    1   \n",
            "3  0  1  0  1  0  0  0  0  1  1  ...    0    0    0    0    0    0    0    1   \n",
            "4  0  0  0  1  0  0  0  0  0  0  ...    0    0    1    0    0    1    0    0   \n",
            "\n",
            "   129   label  \n",
            "0    1  active  \n",
            "1    1  active  \n",
            "2    0  active  \n",
            "3    0  active  \n",
            "4    0  active  \n",
            "\n",
            "[5 rows x 131 columns]\n"
          ]
        }
      ]
    },
    {
      "cell_type": "code",
      "source": [
        "from operator import le\n",
        "X = df.drop('label', axis=1)\n",
        "y = df['label']\n",
        "\n",
        "#transform categorical\n",
        "le = LabelEncoder()\n",
        "y = le.fit_transform(y)\n",
        "print(y)\n",
        "X_train, X_test, y_train, y_test = train_test_split(X, y, test_size=0.2, random_state=42)\n",
        "\n",
        "# Initialize and train the XGBoost classifier\n",
        "model = XGBClassifier(objective='multi:softmax', num_class=3, random_state=42)\n",
        "model.fit(X_train, y_train)\n",
        "\n",
        "#evaluaiton\n",
        "y_pred = model.predict(X_test)\n",
        "\n",
        "accuracy = accuracy_score(y_test, y_pred)\n",
        "print(\"Accuracy: \",accuracy)\n",
        "print(classification_report(y_test, y_pred))"
      ],
      "metadata": {
        "colab": {
          "base_uri": "https://localhost:8080/"
        },
        "id": "g2aH0nuusOZ8",
        "outputId": "1008430f-05d6-4f74-e6fd-833a372a4fc9"
      },
      "execution_count": null,
      "outputs": [
        {
          "output_type": "stream",
          "name": "stdout",
          "text": [
            "[0 0 0 ... 2 2 2]\n",
            "Accuracy:  0.6794871794871795\n",
            "              precision    recall  f1-score   support\n",
            "\n",
            "           0       0.64      0.58      0.61       109\n",
            "           1       0.85      0.79      0.82       107\n",
            "           2       0.57      0.68      0.62        96\n",
            "\n",
            "    accuracy                           0.68       312\n",
            "   macro avg       0.69      0.68      0.68       312\n",
            "weighted avg       0.69      0.68      0.68       312\n",
            "\n"
          ]
        }
      ]
    },
    {
      "cell_type": "code",
      "source": [
        "import pandas as pd\n",
        "import numpy as np\n",
        "from sklearn.model_selection import train_test_split\n",
        "from sklearn.preprocessing import StandardScaler\n",
        "from tensorflow import keras\n",
        "from tensorflow.keras.models import Sequential\n",
        "from tensorflow.keras.layers import Dense\n",
        "\n",
        "# Load the undersampled data\n",
        "df = pd.read_csv('undersampled_data_7k.csv')\n",
        "\n",
        "# Separate features (X) and target (y)\n",
        "X = df.drop('label', axis=1)\n",
        "y = df['label']\n",
        "\n",
        "# Convert labels to numerical values (if needed)\n",
        "y = pd.Categorical(y).codes\n",
        "\n",
        "# Split the data into training and testing sets\n",
        "X_train, X_test, y_train, y_test = train_test_split(X, y, test_size=0.2, random_state=42)\n",
        "\n",
        "# Standardize the features\n",
        "scaler = StandardScaler()\n",
        "X_train = scaler.fit_transform(X_train)\n",
        "X_test = scaler.transform(X_test)\n",
        "\n",
        "# Define the neural network model\n",
        "model = Sequential()\n",
        "model.add(Dense(64, activation='relu', input_shape=(X_train.shape[1],)))\n",
        "model.add(Dense(32, activation='relu'))\n",
        "model.add(Dense(1, activation='sigmoid')) # Assuming binary classification\n",
        "\n",
        "# Compile the model\n",
        "model.compile(optimizer='adam', loss='binary_crossentropy', metrics=['accuracy'])\n",
        "\n",
        "# Train the model\n",
        "model.fit(X_train, y_train, epochs=10, batch_size=32, validation_split = 0.2) # Adjust epochs and batch_size\n",
        "\n",
        "# Evaluate the model\n",
        "loss, accuracy = model.evaluate(X_test, y_test)\n",
        "print(f\"Test Loss: {loss:.4f}\")\n",
        "print(f\"Test Accuracy: {accuracy:.4f}\")"
      ],
      "metadata": {
        "id": "JFhLZm-1gL1r"
      },
      "execution_count": null,
      "outputs": []
    },
    {
      "cell_type": "code",
      "source": [],
      "metadata": {
        "id": "8gGWyFpAWvsb"
      },
      "execution_count": null,
      "outputs": []
    }
  ]
}